{
 "cells": [
  {
   "cell_type": "code",
   "execution_count": 2,
   "metadata": {},
   "outputs": [],
   "source": [
    "import numpy as np\n",
    "from function import crcbgenqcsig, normsig4psd, statgaussnoisegen, innerprod_psd\n",
    "\n",
    "\n",
    "def glrtqcsig(time_vec,data_vec, fs,psd_vec,qcCoefs):\n",
    "\n",
    "    \"calculate the GLRT for a quadratic chirp signal with unknown amplitude\"\n",
    "    'psd_vec: for positive DFT frequencies'\n",
    "    \n",
    "    # Generate unit norm template\n",
    "    sig_vec = crcbgenqcsig(time_vec, 1, qcCoefs)\n",
    "    templateVec, _ = normsig4psd(sig_vec, fs, psd_vec, 1)\n",
    "\n",
    "    # Calculate inner product of data with unit norm template\n",
    "    llr = innerprod_psd(data_vec, templateVec, fs, psd_vec)\n",
    "\n",
    "    return llr**2"
   ]
  },
  {
   "cell_type": "code",
   "execution_count": 3,
   "metadata": {},
   "outputs": [
    {
     "name": "stdout",
     "output_type": "stream",
     "text": [
      "SNR of the signal: 200\n",
      "GLRT value: 39797.1907\n"
     ]
    }
   ],
   "source": [
    "#example usage of the GLRT function\n",
    "\n",
    "# Parameters for data realization\n",
    "nSamples = 2048\n",
    "sampFreq = 1024\n",
    "timeVec = np.arange(nSamples) / sampFreq\n",
    "\n",
    "# Supply PSD values\n",
    "def noisePSD(f):\n",
    "    \"\"\"Noise power spectral density function\"\"\"\n",
    "    return ((f >= 100) & (f <= 300)) * (f - 100) * (300 - f) / 10000 + 1\n",
    "\n",
    "dataLen = nSamples / sampFreq\n",
    "kNyq = nSamples // 2 + 1\n",
    "posFreq = np.arange(kNyq) / dataLen\n",
    "psdPosFreq = noisePSD(posFreq)\n",
    "\n",
    "# Generate data realization\n",
    "# Parameters of the signal to be injected\n",
    "a1 = 9.5\n",
    "a2 = 2.8\n",
    "a3 = 3.2\n",
    "A = 200  # SNR\n",
    "\n",
    "# Generate signal with arbitrary amplitude\n",
    "sig4data = crcbgenqcsig(timeVec, 1, [a1, a2, a3])\n",
    "# Normalize signal to SNR = A in noise with specified PSD\n",
    "sig4data, _ = normsig4psd(sig4data, sampFreq, psdPosFreq, A)\n",
    "print('SNR of the signal:', A)\n",
    "\n",
    "# Generate noise realization\n",
    "noiseVec = statgaussnoisegen(nSamples, np.column_stack([posFreq, psdPosFreq]), 100, sampFreq)\n",
    "\n",
    "# Data realization = noise + signal\n",
    "dataVec = noiseVec + sig4data\n",
    "\n",
    "# Compute GLRT\n",
    "glrt_value=glrtqcsig(timeVec,dataVec,sampFreq,psdPosFreq,[a1, a2, a3])\n",
    "\n",
    "print(f\"GLRT value: {glrt_value:.4f}\")\n"
   ]
  }
 ],
 "metadata": {
  "kernelspec": {
   "display_name": "pytorenv",
   "language": "python",
   "name": "python3"
  },
  "language_info": {
   "codemirror_mode": {
    "name": "ipython",
    "version": 3
   },
   "file_extension": ".py",
   "mimetype": "text/x-python",
   "name": "python",
   "nbconvert_exporter": "python",
   "pygments_lexer": "ipython3",
   "version": "3.11.10"
  }
 },
 "nbformat": 4,
 "nbformat_minor": 2
}
